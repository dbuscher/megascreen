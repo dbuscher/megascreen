{
 "cells": [
  {
   "cell_type": "code",
   "execution_count": 13,
   "metadata": {},
   "outputs": [],
   "source": [
    "import numpy as np\n",
    "import matplotlib.pyplot as plt\n",
    "from joblib import Memory, Parallel, delayed\n",
    "import test_Noll\n",
    "import importlib\n",
    "\n",
    "importlib.reload(test_Noll)\n",
    "from test_Noll import *\n",
    "\n"
   ]
  },
  {
   "cell_type": "code",
   "execution_count": 16,
   "metadata": {},
   "outputs": [],
   "source": [
    "\n",
    "memory = Memory(\"cache\", verbose=0)\n",
    "\n",
    "def WinkerParallel(\n",
    "    diameter=32,\n",
    "    L0Min=16,\n",
    "    L0Max=8000,\n",
    "    numL0=20,\n",
    "    numIter=100,\n",
    "    maxRadial=2,\n",
    "    nfftOuter=256,\n",
    "    nfftInner=256,\n",
    "    randomSeed=12345,\n",
    "):\n",
    "    \"\"\"Derive simulated data corresponding to Figure 2 of Winker 1991\"\"\"\n",
    " \n",
    "    L0s = np.logspace(np.log10(L0Min), np.log10(L0Max), numL0)\n",
    "\n",
    "    variance = np.array(\n",
    "        Parallel(n_jobs=4)(\n",
    "            delayed(NollTest)(\n",
    "                MegaScreen(\n",
    "                    r0=float(diameter),\n",
    "                    L0=L0,\n",
    "                    nfftWoofer=nfftInner,\n",
    "                    nfftTweeter=nfftOuter,\n",
    "                    windowShape=[diameter, diameter],\n",
    "                    dx=diameter,\n",
    "                ),\n",
    "                diameter,\n",
    "                numIter,\n",
    "                maxRadial=maxRadial,\n",
    "            )\n",
    "            for L0 in L0s\n",
    "        )\n",
    "    ).transpose()\n",
    "    t = Table(\n",
    "        [L0s] + list(variance),\n",
    "        names=[\"L0\"] + [\"Z\" + str(i) for i in range(len(variance))],\n",
    "    )\n",
    "    return t\n",
    "\n",
    "\n",
    "@memory.cache\n",
    "def MemoWinker(\n",
    "    diameter=32,\n",
    "    L0Min=16,\n",
    "    L0Max=8000,\n",
    "    numL0=20,\n",
    "    numIter=100,\n",
    "    maxRadial=2,\n",
    "    nfftOuter=256,\n",
    "    nfftInner=256,\n",
    "    randomSeed=12345,\n",
    "):\n",
    "    \"\"\"Memoised wrapper for the Winker function\"\"\"\n",
    "    np.random.seed(randomSeed)\n",
    "    return Winker(\n",
    "        diameter, L0Min, L0Max, numL0, numIter, maxRadial, nfftOuter, nfftInner\n",
    "    )\n",
    "\n",
    "\n",
    "t = MemoWinker(numIter=1000, diameter=100, randomSeed=54321123)"
   ]
  },
  {
   "cell_type": "code",
   "execution_count": 17,
   "metadata": {},
   "outputs": [
    {
     "data": {
      "image/png": "[encoded data removed]",
      "text/plain": [
       "<Figure size 432x288 with 1 Axes>"
      ]
     },
     "metadata": {
      "needs_background": "light"
     },
     "output_type": "display_data"
    }
   ],
   "source": [
    "def PlotWinker(t, diameter, fmin=1e-3, fmax=1e0):\n",
    "    L0 = 2 * t[\"L0\"] / diameter\n",
    "    for z in [0, 2, 5]:\n",
    "        plt.loglog(1 / L0, t[\"Z\" + str(z)], label=\"Z\" + str(z))\n",
    "        plt.loglog([fmin, fmax], [Noll[z], Noll[z]], ls=\"dotted\")\n",
    "\n",
    "\n",
    "PlotWinker(t, 100)"
   ]
  },
  {
   "cell_type": "code",
   "execution_count": null,
   "metadata": {},
   "outputs": [],
   "source": []
  }
 ],
 "metadata": {
  "jupytext": {
   "formats": "ipynb,py:percent"
  },
  "kernelspec": {
   "display_name": "Python 3",
   "language": "python",
   "name": "python3"
  },
  "language_info": {
   "codemirror_mode": {
    "name": "ipython",
    "version": 3
   },
   "file_extension": ".py",
   "mimetype": "text/x-python",
   "name": "python",
   "nbconvert_exporter": "python",
   "pygments_lexer": "ipython3",
   "version": "3.7.3"
  }
 },
 "nbformat": 4,
 "nbformat_minor": 2
}
