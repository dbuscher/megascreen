{
 "cells": [
  {
   "cell_type": "markdown",
   "metadata": {},
   "source": [
    "# Evaluate the structure function of the phase screen"
   ]
  },
  {
   "cell_type": "code",
   "execution_count": 10,
   "metadata": {},
   "outputs": [],
   "source": [
    "from astropy.table import Table\n",
    "import matplotlib.pyplot as plt\n",
    "import matplotlib\n",
    "import MegaScreen\n",
    "import numpy as np\n",
    "from theory import sf_integrated\n",
    "from MegaScreen import VonKarmanSpectrum, NestedSpectra\n",
    "\n",
    "%matplotlib inline\n",
    "matplotlib.rcParams[\"savefig.dpi\"] = 200\n",
    "matplotlib.rcParams[\"text.usetex\"] = False\n",
    "\n",
    "\n",
    "def multiscreen_sf(\n",
    "    r0=5,\n",
    "    L0=10000,\n",
    "    diameter=128,\n",
    "    decimate=20,\n",
    "    numIter=10000,\n",
    "    nfftWoofer=512,\n",
    "    nfftTweeter=256,\n",
    "):\n",
    "    \"\"\"Return the x and y structure functions of the woofer, tweeter, and summed screen\"\"\"\n",
    "    args = locals()\n",
    "    args[\"MegaScreenVersion\"] = MegaScreen.__version__\n",
    "    sf = []\n",
    "    # Use debug=True to get the woofer and tweeter screens\n",
    "    for screens in MegaScreen.MegaScreen(\n",
    "        r0=r0,\n",
    "        L0=L0,\n",
    "        windowShape=[diameter, diameter],\n",
    "        dx=diameter,\n",
    "        nfftWoofer=nfftWoofer,\n",
    "        nfftTweeter=nfftTweeter,\n",
    "        debug=True,\n",
    "        numIter=numIter,\n",
    "    ):\n",
    "        sf.append([average_sf_xy(screens[i], decimate) for i in range(3)])\n",
    "    sf = np.mean(sf, axis=0)\n",
    "    r = np.arange(sf.shape[2]) + 1\n",
    "    return r, sf, args\n",
    "\n",
    "\n",
    "def structure_function_brute_force(sig):\n",
    "    \"\"\"Return the structure function over the first dimension of an ndarray\n",
    "    \n",
    "    This could be done faster using an FFT but it is simpler to code the brute force\n",
    "    version.\n",
    "    \"\"\"\n",
    "    l = len(sig)\n",
    "    a = [\n",
    "        np.sum((sig[:-lag] - sig[lag:]) ** 2, axis=0) / (l - lag) for lag in range(1, l)\n",
    "    ]\n",
    "    return np.array(a)\n",
    "\n",
    "\n",
    "def average_sf(sig):\n",
    "    \"\"\"Return the structure function in the first dimension, averaged over the last dimension\"\"\"\n",
    "    a = structure_function_brute_force(sig)\n",
    "    return np.mean(a, axis=-1)\n",
    "\n",
    "\n",
    "def average_sf_xy(screen, decimate):\n",
    "    \"\"\"Return the average structure function of a 2-d screen in two dimensions\n",
    "    \n",
    "    Reduce the computation time by only averaging over every `decimate`th line\n",
    "    \"\"\"\n",
    "    return (\n",
    "        average_sf(screen[:, ::decimate]),\n",
    "        average_sf(screen.transpose()[:, ::decimate]),\n",
    "    )"
   ]
  },
  {
   "cell_type": "code",
   "execution_count": 12,
   "metadata": {},
   "outputs": [
    {
     "name": "stdout",
     "output_type": "stream",
     "text": [
      "This may take some time...\n",
      "..done\n"
     ]
    }
   ],
   "source": [
    "print(\"This may take some time...\")\n",
    "r,sf,args=multiscreen_sf(numIter=1000)\n",
    "print(\"..done\")"
   ]
  },
  {
   "cell_type": "code",
   "execution_count": 13,
   "metadata": {
    "lines_to_next_cell": 2
   },
   "outputs": [
    {
     "data": {
      "image/png": "[encoded data removed]",
      "text/plain": [
       "<Figure size 648x216 with 3 Axes>"
      ]
     },
     "metadata": {
      "needs_background": "light"
     },
     "output_type": "display_data"
    }
   ],
   "source": [
    "def plot_all(r, results, meta):\n",
    "    plt.figure(figsize=(9, 3))\n",
    "    for i, title in enumerate([\"Woofer\", \"Tweeter\", \"Sum\"]):\n",
    "        plt.subplot(1, 3, i + 1)\n",
    "        sf_x, sf_y = results[i]\n",
    "        plt.loglog(r, sf_x, label=\"x\")\n",
    "        plt.loglog(r, sf_y, label=\"y\")\n",
    "        plot_theory(r, meta)\n",
    "        if i == 0:\n",
    "            plt.ylabel(r\"$D_\\phi(r)$\")\n",
    "            plt.legend(loc=\"lower right\")\n",
    "        plt.xlabel(r\"$r$\")\n",
    "        plt.title(title)\n",
    "        plt.ylim(2e-1, 2e3)\n",
    "\n",
    "\n",
    "def plot_theory(r, meta):\n",
    "    model = sf_integrated(r, r0=meta[\"r0\"], L0=meta[\"L0\"])\n",
    "    plt.loglog(r, model, label=\"model\")\n",
    "\n",
    "\n",
    "plot_all(r, sf, args)\n",
    "# plt.savefig(\"component_sf.png\")"
   ]
  },
  {
   "cell_type": "code",
   "execution_count": null,
   "metadata": {
    "collapsed": true
   },
   "outputs": [],
   "source": []
  }
 ],
 "metadata": {
  "jupytext": {
   "formats": "ipynb,py:percent"
  },
  "kernelspec": {
   "display_name": "Python 3",
   "language": "python",
   "name": "python3"
  },
  "language_info": {
   "codemirror_mode": {
    "name": "ipython",
    "version": 3
   },
   "file_extension": ".py",
   "mimetype": "text/x-python",
   "name": "python",
   "nbconvert_exporter": "python",
   "pygments_lexer": "ipython3",
   "version": "3.7.3"
  }
 },
 "nbformat": 4,
 "nbformat_minor": 2
}
